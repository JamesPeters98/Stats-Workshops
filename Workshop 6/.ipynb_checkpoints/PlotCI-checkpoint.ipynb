{
 "cells": [
  {
   "cell_type": "markdown",
   "metadata": {},
   "source": [
    "# Question 1"
   ]
  },
  {
   "cell_type": "code",
   "execution_count": 134,
   "metadata": {
    "pycharm": {
     "is_executing": false,
     "name": "#%%\n"
    }
   },
   "outputs": [
    {
     "data": {
      "image/png": "[encoded data removed]",
      "text/plain": [
       "<Figure size 432x288 with 1 Axes>"
      ]
     },
     "metadata": {
      "needs_background": "light"
     },
     "output_type": "display_data"
    },
    {
     "ename": "TypeError",
     "evalue": "'str' object is not callable",
     "output_type": "error",
     "traceback": [
      "\u001b[1;31m---------------------------------------------------------------------------\u001b[0m",
      "\u001b[1;31mTypeError\u001b[0m                                 Traceback (most recent call last)",
      "\u001b[1;32m<ipython-input-134-7f0eb964409d>\u001b[0m in \u001b[0;36m<module>\u001b[1;34m\u001b[0m\n\u001b[0;32m     93\u001b[0m \u001b[1;33m\u001b[0m\u001b[0m\n\u001b[0;32m     94\u001b[0m \u001b[1;33m\u001b[0m\u001b[0m\n\u001b[1;32m---> 95\u001b[1;33m \u001b[0mr\u001b[0m \u001b[1;33m=\u001b[0m \u001b[0mdisplayCI\u001b[0m\u001b[1;33m(\u001b[0m\u001b[1;36m0.6827\u001b[0m\u001b[1;33m,\u001b[0m\u001b[0mm\u001b[0m\u001b[1;33m,\u001b[0m\u001b[0ms\u001b[0m\u001b[1;33m)\u001b[0m\u001b[1;33m\u001b[0m\u001b[1;33m\u001b[0m\u001b[0m\n\u001b[0m\u001b[0;32m     96\u001b[0m \u001b[0mr2\u001b[0m \u001b[1;33m=\u001b[0m \u001b[0mdisplayCI\u001b[0m\u001b[1;33m(\u001b[0m\u001b[1;36m0.95\u001b[0m\u001b[1;33m,\u001b[0m\u001b[0mm\u001b[0m\u001b[1;33m,\u001b[0m\u001b[0ms\u001b[0m\u001b[1;33m)\u001b[0m\u001b[1;33m\u001b[0m\u001b[1;33m\u001b[0m\u001b[0m\n\u001b[0;32m     97\u001b[0m \u001b[0mr3\u001b[0m \u001b[1;33m=\u001b[0m \u001b[0mdisplayCI\u001b[0m\u001b[1;33m(\u001b[0m\u001b[1;36m0.99\u001b[0m\u001b[1;33m,\u001b[0m\u001b[0mm\u001b[0m\u001b[1;33m,\u001b[0m\u001b[0ms\u001b[0m\u001b[1;33m)\u001b[0m\u001b[1;33m\u001b[0m\u001b[1;33m\u001b[0m\u001b[0m\n",
      "\u001b[1;32m<ipython-input-134-7f0eb964409d>\u001b[0m in \u001b[0;36mdisplayCI\u001b[1;34m(CI, mean, sigma, doubleTail)\u001b[0m\n\u001b[0;32m     88\u001b[0m \u001b[1;32mdef\u001b[0m \u001b[0mdisplayCI\u001b[0m\u001b[1;33m(\u001b[0m\u001b[0mCI\u001b[0m\u001b[1;33m,\u001b[0m\u001b[0mmean\u001b[0m\u001b[1;33m,\u001b[0m\u001b[0msigma\u001b[0m\u001b[1;33m,\u001b[0m\u001b[0mdoubleTail\u001b[0m\u001b[1;33m=\u001b[0m\u001b[1;32mTrue\u001b[0m\u001b[1;33m)\u001b[0m\u001b[1;33m:\u001b[0m\u001b[1;33m\u001b[0m\u001b[1;33m\u001b[0m\u001b[0m\n\u001b[0;32m     89\u001b[0m     \u001b[0ml\u001b[0m\u001b[1;33m,\u001b[0m\u001b[0mu\u001b[0m \u001b[1;33m=\u001b[0m \u001b[0mcalculateCI\u001b[0m\u001b[1;33m(\u001b[0m\u001b[0mCI\u001b[0m\u001b[1;33m,\u001b[0m\u001b[0mmean\u001b[0m\u001b[1;33m,\u001b[0m\u001b[0msigma\u001b[0m\u001b[1;33m,\u001b[0m\u001b[0mdoubleTail\u001b[0m\u001b[1;33m)\u001b[0m\u001b[1;33m\u001b[0m\u001b[1;33m\u001b[0m\u001b[0m\n\u001b[1;32m---> 90\u001b[1;33m     \u001b[0mPlotCI\u001b[0m\u001b[1;33m(\u001b[0m\u001b[0mCI\u001b[0m\u001b[1;33m,\u001b[0m\u001b[0mmean\u001b[0m\u001b[1;33m,\u001b[0m\u001b[0msigma\u001b[0m\u001b[1;33m,\u001b[0m\u001b[0mdoubleTail\u001b[0m\u001b[1;33m)\u001b[0m\u001b[1;33m\u001b[0m\u001b[1;33m\u001b[0m\u001b[0m\n\u001b[0m\u001b[0;32m     91\u001b[0m     \u001b[0mplt\u001b[0m\u001b[1;33m.\u001b[0m\u001b[0mshow\u001b[0m\u001b[1;33m(\u001b[0m\u001b[1;33m)\u001b[0m\u001b[1;33m\u001b[0m\u001b[1;33m\u001b[0m\u001b[0m\n\u001b[0;32m     92\u001b[0m     \u001b[1;32mreturn\u001b[0m \u001b[0mCI\u001b[0m\u001b[1;33m,\u001b[0m\u001b[0ml\u001b[0m\u001b[1;33m,\u001b[0m\u001b[0mu\u001b[0m\u001b[1;33m\u001b[0m\u001b[1;33m\u001b[0m\u001b[0m\n",
      "\u001b[1;32m<ipython-input-134-7f0eb964409d>\u001b[0m in \u001b[0;36mPlotCI\u001b[1;34m(prob, mean, sigma, doubleTail)\u001b[0m\n\u001b[0;32m     43\u001b[0m             xlabel(\n\u001b[0;32m     44\u001b[0m             \u001b[1;34m'x norm.pdf(x,$\\mu={}, \\sigma={}$)'\u001b[0m\u001b[1;33m\u001b[0m\u001b[1;33m\u001b[0m\u001b[0m\n\u001b[1;32m---> 45\u001b[1;33m                 .format(mean,sigma))\n\u001b[0m\u001b[0;32m     46\u001b[0m         \u001b[0mplt\u001b[0m\u001b[1;33m.\u001b[0m\u001b[0mlegend\u001b[0m\u001b[1;33m(\u001b[0m\u001b[1;33m)\u001b[0m\u001b[1;33m\u001b[0m\u001b[1;33m\u001b[0m\u001b[0m\n\u001b[0;32m     47\u001b[0m         \u001b[0mplt\u001b[0m\u001b[1;33m.\u001b[0m\u001b[0mshow\u001b[0m\u001b[1;33m(\u001b[0m\u001b[1;33m)\u001b[0m\u001b[1;33m\u001b[0m\u001b[1;33m\u001b[0m\u001b[0m\n",
      "\u001b[1;31mTypeError\u001b[0m: 'str' object is not callable"
     ]
    },
    {
     "data": {
      "image/png": "[encoded data removed]",
      "text/plain": [
       "<Figure size 432x288 with 1 Axes>"
      ]
     },
     "metadata": {
      "needs_background": "light"
     },
     "output_type": "display_data"
    }
   ],
   "source": [
    "from prettytable import PrettyTable\n",
    "%matplotlib inline\n",
    "import numpy as np\n",
    "import matplotlib.pyplot as plt\n",
    "from scipy.stats import norm # load normal pdf functions from scipy.stats\n",
    "\n",
    "def PlotCI(prob=0.6827,mean=0,sigma=1,doubleTail=True):\n",
    "    \"\"\"\n",
    "plotCI draws the exlcuded regions for a normal pdf (i.e. Gaussian)\n",
    "prob = CI probability limit\n",
    "mean = mean of normal PDF\n",
    "sigma = sigma of normal PDF\n",
    "doubleTail = is the distribution assumed to be two tailed\n",
    "    \"\"\"\n",
    "    n=500 # number of points to draw, all pdf\n",
    "    nfill=100 # number of points to draw in excluded region\n",
    "    xmin=mean-5*sigma # set max and min of plot\n",
    "    xmax=mean+5*sigma;\n",
    "    x=np.linspace(xmin,xmax,n) # x of points\n",
    "    y=norm.pdf(x,mean,sigma) # PDF of x values \n",
    "    # test if 1 or two tailed\n",
    "    if doubleTail : # CI is the middle of the distribution \n",
    "        prob2=(1-prob)/2 # half above and half below prob\n",
    "        # norm.isf is inverse survival function \n",
    "        # The survival function is defined as 1-cdf\n",
    "        # i.e. the cumlative probaility that the real value > x\n",
    "        # isf is used to convert a cumlative probility to x value\n",
    "        xcut1  = norm.isf(1-prob2,mean,sigma) # lower limit in x within CI window\n",
    "        xcut2  = norm.isf(prob2,mean,sigma) # upper limit in x within CI window\n",
    "        xfill1 = np.linspace(x[0],xcut1,nfill) # points between xmin and xcut1 to plot as filled\n",
    "        yfill1 = norm.pdf(xfill1,mean,sigma) # y values for xfill1\n",
    "        # now need to add a point on the axis so the filled shape goes to zero\n",
    "        xfill1 = np.append(xfill1,xcut1) # have to explicitly copy then extend a numpy array\n",
    "        yfill1 = np.append(yfill1,0)\n",
    "        xfill2 = np.linspace(xcut2,x[-1],nfill) # x[-1] as an index means last entry in x \n",
    "        yfill2 = norm.pdf(xfill2,mean,sigma)\n",
    "        xfill2 = np.append(xcut2,xfill2) # here need to prepend the values for upper side band\n",
    "        yfill2 = np.append(0,yfill2)\n",
    "        plt.plot(x,y,label=\"pdf\")\n",
    "        plt.fill(xfill1,yfill1,'r',label=\"Lower excluded region CI={}\".format(prob));\n",
    "        plt.fill(xfill2,yfill2,'b',label=\"Upper excluded region CI={}\".format(prob));\n",
    "        plt.\\\n",
    "            xlabel(\n",
    "            'x norm.pdf(x,$\\mu={}, \\sigma={}$)'\n",
    "                .format(mean,sigma))\n",
    "        plt.legend()\n",
    "        plt.show()\n",
    "    else:  # one tailed so can use CDF directly\n",
    "        # use 1-prob as inverse survival function (sf = 1-cdf)\n",
    "        xcut=norm.isf(1-prob,mean,sigma) # find upper side band limit in x\n",
    "        xfill=np.linspace(xcut,x[-1],nfill) # make x points to USB limit\n",
    "        yfill=norm.pdf(xfill,mean,sigma) # y values matching x values\n",
    "        xfill = np.append(xcut,xfill) # have to explicitly copy then extend a numpy array\n",
    "        yfill = np.append(0,yfill)\n",
    "        plt.plot(x,y,label=\"pdf\")\n",
    "        plt.fill(xfill,yfill,'b',label=\"Upper excluded region CI={}\".format(prob));\n",
    "        plt.xlabel('x for norm.pdf(x,$\\mu={}, \\sigma={}$)'.format(mean,sigma))\n",
    "        plt.legend()\n",
    "        plt.show()\n",
    "# You can use the following code to test the PlotCI function\n",
    "#PlotCI(0.6827,0,1,True) # example to test code, double sided\n",
    "#PlotCI(prob=0.95,mean=100,sigma=25,doubleTail=False) # example to test code, signle sided\n",
    "\n",
    "\n",
    "\n",
    "figure = plt.figure(figsize=(6,4))\n",
    "\n",
    "m = 10\n",
    "s = 2.5\n",
    "\n",
    "# CUMULATIVE DENSITY FUNCTION & GAUSSIAN PDF\n",
    "x = np.linspace(m-5*s,m+5*s,100)\n",
    "CDF = norm.cdf(x,m,s)\n",
    "PDF = norm.pdf(x,m,s)\n",
    "plt.plot(x,CDF, label=\"CDF\")\n",
    "plt.plot(x,PDF, label=\"PDF\")\n",
    "plt.legend()\n",
    "plt.show()\n",
    "\n",
    "\n",
    "# Return upper and lower Confidence Interval\n",
    "def calculateCI(CI,mean,sigma,doubleTail=True):\n",
    "    if doubleTail: prob = (1-CI)/2\n",
    "    else: prob = 1-CI\n",
    "    return norm.isf(1-prob,mean,sigma),norm.isf(prob,mean,sigma)\n",
    "\n",
    "# Display Confidence Interval & return the upper and lower values.\n",
    "def displayCI(CI,mean,sigma,doubleTail=True):\n",
    "    l,u = calculateCI(CI,mean,sigma,doubleTail)\n",
    "    PlotCI(CI,mean,sigma,doubleTail)\n",
    "    plt.show()\n",
    "    return CI,l,u\n",
    "\n",
    "\n",
    "r = displayCI(0.6827,m,s)\n",
    "r2 = displayCI(0.95,m,s)\n",
    "r3 = displayCI(0.99,m,s)\n",
    "\n",
    "table = PrettyTable(['Confidence Interval','Lower Bound','Upper Bound'])\n",
    "table.add_row([\"{0:1.2f}%\".format(r[0]*100),\"{0:1.2f}\".format(r[1]),\"{0:1.2f}\".format(r[2])])\n",
    "table.add_row([\"{0:1.2f}%\".format(r2[0]*100),\"{0:1.2f}\".format(r2[1]),\"{0:1.2f}\".format(r2[2])])\n",
    "table.add_row([\"{0:1.2f}%\".format(r3[0]*100),\"{0:1.2f}\".format(r3[1]),\"{0:1.2f}\".format(r3[2])])\n",
    "print(table)\n"
   ]
  },
  {
   "cell_type": "markdown",
   "metadata": {},
   "source": [
    "The next plot shows the one-tailed 95% upper CI. This is the value where 95% of the data lies below. So from $\\infty$ to $x$"
   ]
  },
  {
   "cell_type": "code",
   "execution_count": null,
   "metadata": {
    "pycharm": {
     "is_executing": false,
     "name": "#%%\n"
    }
   },
   "outputs": [],
   "source": [
    "r4 = displayCI(0.95,m,s,False)\n",
    "\n"
   ]
  }
 ],
 "metadata": {
  "kernelspec": {
   "display_name": "Python 3",
   "language": "python",
   "name": "python3"
  },
  "language_info": {
   "codemirror_mode": {
    "name": "ipython",
    "version": 3
   },
   "file_extension": ".py",
   "mimetype": "text/x-python",
   "name": "python",
   "nbconvert_exporter": "python",
   "pygments_lexer": "ipython3",
   "version": "3.7.4"
  },
  "pycharm": {
   "stem_cell": {
    "cell_type": "raw",
    "metadata": {
     "collapsed": false
    },
    "source": []
   }
  }
 },
 "nbformat": 4,
 "nbformat_minor": 1
}
