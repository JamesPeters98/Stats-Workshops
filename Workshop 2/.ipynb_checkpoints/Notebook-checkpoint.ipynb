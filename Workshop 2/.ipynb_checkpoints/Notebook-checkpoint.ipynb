{
 "cells": [
  {
   "cell_type": "code",
   "execution_count": null,
   "metadata": {
    "pycharm": {
     "is_executing": false,
     "name": "#%% Question 1\n"
    }
   },
   "outputs": [],
   "source": [
    "%matplotlib inline\n",
    "from scipy.stats import binom\n",
    "from prettytable import PrettyTable\n",
    "import matplotlib.pyplot as plt\n",
    "import numpy as npy\n",
    "\n",
    "# Question 1\n",
    "\n",
    "## Binomial Probability\n",
    "p = 0.4 #Probability of heads\n",
    "n = 5   #Number of trials\n",
    "\n",
    "rv = binom(n,p)\n",
    "\n",
    "## Prints Table of results\n",
    "print(\"Probability of getting a head when p =\",p,\"& n =\",n)\n",
    "table = PrettyTable(['Heads','Probability'])\n",
    "for x in range(n+1):\n",
    "    table.add_row([x,\"{0:10.4f}\".format(rv.pmf(x))])\n",
    "print(table)"
   ]
  },
  {
   "cell_type": "code",
   "execution_count": 26,
   "metadata": {
    "pycharm": {
     "is_executing": false,
     "name": "#%% \n"
    }
   },
   "outputs": [
    {
     "data": {
      "image/png": "[encoded data removed]",
      "text/plain": [
       "<Figure size 432x288 with 1 Axes>"
      ]
     },
     "metadata": {
      "needs_background": "light"
     },
     "output_type": "display_data"
    }
   ],
   "source": [
    "n = 30; p1 = 0.25; p2 = 0.55\n",
    "xpos = npy.arange(0,n)\n",
    "\n",
    "plt.step(xpos,binom.pmf(xpos,n,p1), label='p = '+str(p1))\n",
    "plt.step(xpos,binom.pmf(xpos,n,p2), label='p = '+str(p2))\n",
    "plt.legend()\n",
    "plt.show()\n"
   ]
  }
 ],
 "metadata": {
  "kernelspec": {
   "display_name": "Python 3",
   "language": "python",
   "name": "python3"
  },
  "language_info": {
   "codemirror_mode": {
    "name": "ipython",
    "version": 3
   },
   "file_extension": ".py",
   "mimetype": "text/x-python",
   "name": "python",
   "nbconvert_exporter": "python",
   "pygments_lexer": "ipython3",
   "version": "3.7.4"
  },
  "pycharm": {
   "stem_cell": {
    "cell_type": "raw",
    "metadata": {
     "collapsed": false
    },
    "source": []
   }
  }
 },
 "nbformat": 4,
 "nbformat_minor": 1
}
