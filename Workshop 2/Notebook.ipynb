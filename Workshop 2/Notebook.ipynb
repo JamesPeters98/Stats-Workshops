{
 "cells": [
  {
   "cell_type": "markdown",
   "metadata": {
    "pycharm": {
     "is_executing": false,
     "name": "#%% md\n"
    }
   },
   "source": [
    "# Question 1"
   ]
  },
  {
   "cell_type": "code",
   "execution_count": 1,
   "metadata": {
    "pycharm": {
     "is_executing": false,
     "name": "#%%\n"
    }
   },
   "outputs": [
    {
     "name": "stdout",
     "output_type": "stream",
     "text": [
      "Probability of getting a head when p = 0.4 & n = 5\n",
      "+-------+-------------+\n",
      "| Heads | Probability |\n",
      "+-------+-------------+\n",
      "|   0   |      0.0778 |\n",
      "|   1   |      0.2592 |\n",
      "|   2   |      0.3456 |\n",
      "|   3   |      0.2304 |\n",
      "|   4   |      0.0768 |\n",
      "|   5   |      0.0102 |\n",
      "+-------+-------------+\n"
     ]
    }
   ],
   "source": [
    "%matplotlib inline\n",
    "from scipy.stats import binom, poisson\n",
    "from prettytable import PrettyTable\n",
    "import matplotlib.pyplot as plt\n",
    "import numpy as npy\n",
    "from IPython.display import Latex, display, Markdown\n",
    "\n",
    "## Binomial Probability\n",
    "p = 0.4 #Probability of heads\n",
    "n = 5   #Number of trials\n",
    "\n",
    "rv = binom(n,p)\n",
    "\n",
    "## Prints Table of results\n",
    "print(\"Probability of getting a head when p =\",p,\"& n =\",n)\n",
    "table = PrettyTable(['Heads','Probability'])\n",
    "for x in range(n+1):\n",
    "    table.add_row([x,\"{0:10.4f}\".format(rv.pmf(x))])\n",
    "print(table)"
   ]
  },
  {
   "cell_type": "code",
   "execution_count": 2,
   "metadata": {
    "pycharm": {
     "is_executing": false,
     "name": "#%%\n"
    }
   },
   "outputs": [
    {
     "data": {
      "image/png": "[encoded data removed]",
      "text/plain": [
       "<Figure size 432x288 with 1 Axes>"
      ]
     },
     "metadata": {
      "needs_background": "light"
     },
     "output_type": "display_data"
    }
   ],
   "source": [
    "# Variables \n",
    "n = 30      #Trials\n",
    "p1 = 0.25   #Probability 1\n",
    "p2 = 0.55   #Probability 2\n",
    "\n",
    "# Plot Graph\n",
    "xpos = npy.arange(0,n)\n",
    "plt.step(xpos,binom.pmf(xpos,n,p1), label='p = '+str(p1))\n",
    "\n",
    "plt.step(xpos,binom.pmf(xpos,n,p2), label='p = '+str(p2))\n",
    "plt.legend()\n",
    "plt.xlabel(\"N\");\n",
    "plt.ylabel(\"Probability p\")\n",
    "plt.title(\"Poisson Distribution for p=\"+str(p1)+\" & p=\"+str(p2)+\" for \"+str(n)+\" events\")\n",
    "plt.show()"
   ]
  },
  {
   "cell_type": "markdown",
   "metadata": {
    "pycharm": {
     "is_executing": false,
     "name": "#%% md\n"
    }
   },
   "source": [
    "# Question 2"
   ]
  },
  {
   "cell_type": "code",
   "execution_count": 3,
   "metadata": {
    "pycharm": {
     "is_executing": false,
     "name": "#%%\n"
    }
   },
   "outputs": [
    {
     "name": "stdout",
     "output_type": "stream",
     "text": [
      "Probability of at least 3 events when λ = 3\n",
      "p = 0.5768\n",
      "\n",
      "Probability of at least 30 events when λ = 30\n",
      "p = 0.5243\n",
      "\n"
     ]
    }
   ],
   "source": [
    "from scipy.stats import poisson\n",
    "\n",
    "def poisson_at_least_n_events(mu,n):\n",
    "    p = 1-poisson.cdf(n-1,mu)\n",
    "    print(\"Probability of at least\",n,\"events when \\u03BB =\",mu)\n",
    "    print(\"p ={0:7.4f}\".format(p))\n",
    "    print(\"\")\n",
    "\n",
    "poisson_at_least_n_events(3,3)    # mu = 3, n = 3\n",
    "poisson_at_least_n_events(30,30)  # mu = 30, n = 30"
   ]
  },
  {
   "cell_type": "markdown",
   "metadata": {
    "pycharm": {
     "name": "#%% md\n"
    }
   },
   "source": [
    "The Poisson distribution can be approximated by the Gaussian distribution as $\\lambda \\to \\infty$ which\n",
    "is symmetrical around $\\lambda$ so therefore $P(n \\leq \\lambda) = 0.5$ \n",
    "  "
   ]
  },
  {
   "cell_type": "markdown",
   "metadata": {
    "pycharm": {
     "name": "#%% md\n"
    }
   },
   "source": [
    "# Question 3\n",
    "## a)"
   ]
  },
  {
   "cell_type": "code",
   "execution_count": 4,
   "metadata": {
    "pycharm": {
     "is_executing": false,
     "name": "#%%\n"
    }
   },
   "outputs": [
    {
     "name": "stdout",
     "output_type": "stream",
     "text": [
      "Probability of 1 or fewer events occuring when λ = 0.75\n",
      "p = 0.8266\n",
      "\n"
     ]
    }
   ],
   "source": [
    "def poisson_fewer_or_equal_n_events(mu,n):\n",
    "    p = poisson.cdf(n,mu)\n",
    "    print(\"Probability of\",n,\"or fewer events occuring when \\u03BB =\",mu)\n",
    "    print(\"p ={0:7.4f}\".format(p))\n",
    "    print(\"\")\n",
    "\n",
    "source_events = 10\n",
    "background_events = 0.75\n",
    "n = 1\n",
    "\n",
    "poisson_fewer_or_equal_n_events(background_events,n) # P(n <= 1)"
   ]
  },
  {
   "cell_type": "markdown",
   "metadata": {
    "pycharm": {
     "name": "#%% md\n"
    }
   },
   "source": [
    "## b)\n",
    "$N = \\lambda_{signal} + \\lambda_{background} = 10 + 0.75 = 10.75 $ \n",
    "\n",
    "## c)"
   ]
  },
  {
   "cell_type": "code",
   "execution_count": 8,
   "metadata": {
    "pycharm": {
     "is_executing": false,
     "name": "#%%\n"
    }
   },
   "outputs": [
    {
     "data": {
      "image/png": "[encoded data removed]",
      "text/plain": [
       "<Figure size 432x288 with 1 Axes>"
      ]
     },
     "metadata": {
      "needs_background": "light"
     },
     "output_type": "display_data"
    }
   ],
   "source": [
    "combined_events = source_events + background_events # \n",
    "\n",
    "xpos = npy.arange(0,combined_events*2)\n",
    "plt.step(xpos,poisson.pmf(xpos,combined_events), label=\"Signal + Background\")\n",
    "plt.step(xpos,poisson.pmf(xpos,background_events), label=\"Background\")\n",
    "plt.legend()\n",
    "plt.xlabel(\"N (Events)\");\n",
    "plt.ylabel(\"Probability p\")\n",
    "plt.title(\"Poisson Distribution Showing Background vs Background & Signal Events\")\n",
    "plt.show()"
   ]
  },
  {
   "cell_type": "markdown",
   "metadata": {},
   "source": [
    "# Question 4\n",
    "\n",
    "Bayes' Theorem:\n",
    "\n",
    "$$ P(A \\mid B) = \\frac{ P(B \\mid A ) \\, P(A)} { (P(B \\mid A )P(A)) + P(B \\mid \\bar{A})(1 - P(A))  } $$\n",
    "\n",
    "Therefore:\n",
    "\n",
    "$\n",
    "\\begin{align}\n",
    "P(r \\mid f) &= \\frac{ P(f \\mid r ) \\, P(r)} { (P(f \\mid r )P(r)) + P(f \\mid \\bar{r})(1 - P(r))  } \\\\\n",
    "&= \\frac{ 0.70 \\times 30/365} { (0.70 \\times 30/365) + 0.05 (1 - 30/365)  } \\\\\n",
    "\\end{align}\n",
    "$"
   ]
  },
  {
   "cell_type": "code",
   "execution_count": 6,
   "metadata": {
    "pycharm": {
     "is_executing": false,
     "name": "#%%\n"
    }
   },
   "outputs": [
    {
     "data": {
      "text/latex": [
       "$P(r \\mid f) =   0.5563 $ "
      ],
      "text/plain": [
       "<IPython.core.display.Latex object>"
      ]
     },
     "metadata": {},
     "output_type": "display_data"
    }
   ],
   "source": [
    "f_r = 0.7\n",
    "f_r_bar = 0.05\n",
    "r = 30/365\n",
    "\n",
    "p = (f_r*r)/((f_r*r)+f_r_bar*(1-r))\n",
    "\n",
    "display(Latex(\"$P(r \\mid f) =  {0:7.4f} $ \".format(p)))"
   ]
  },
  {
   "cell_type": "markdown",
   "metadata": {
    "pycharm": {
     "name": "#%% md\n"
    }
   },
   "source": [
    "# Question 5"
   ]
  },
  {
   "cell_type": "code",
   "execution_count": 7,
   "metadata": {
    "pycharm": {
     "is_executing": false,
     "name": "#%%\n"
    }
   },
   "outputs": [
    {
     "data": {
      "text/latex": [
       "$A =  $ {0, 2, 4, 6, 8, 10, 12}"
      ],
      "text/plain": [
       "<IPython.core.display.Latex object>"
      ]
     },
     "metadata": {},
     "output_type": "display_data"
    },
    {
     "data": {
      "text/latex": [
       "$B =  $ {3, 4, 5, 6, 7, 8, 9, 10, 11, 12, 13, 14, 15}"
      ],
      "text/plain": [
       "<IPython.core.display.Latex object>"
      ]
     },
     "metadata": {},
     "output_type": "display_data"
    },
    {
     "data": {
      "text/latex": [],
      "text/plain": [
       "<IPython.core.display.Latex object>"
      ]
     },
     "metadata": {},
     "output_type": "display_data"
    },
    {
     "data": {
      "text/latex": [
       "$A \\cup B =  $ {0, 2, 3, 4, 5, 6, 7, 8, 9, 10, 11, 12, 13, 14, 15}"
      ],
      "text/plain": [
       "<IPython.core.display.Latex object>"
      ]
     },
     "metadata": {},
     "output_type": "display_data"
    },
    {
     "data": {
      "text/latex": [
       "$A \\cap B =  $ {4, 6, 8, 10, 12}"
      ],
      "text/plain": [
       "<IPython.core.display.Latex object>"
      ]
     },
     "metadata": {},
     "output_type": "display_data"
    },
    {
     "data": {
      "text/latex": [],
      "text/plain": [
       "<IPython.core.display.Latex object>"
      ]
     },
     "metadata": {},
     "output_type": "display_data"
    },
    {
     "data": {
      "text/latex": [
       "$P(x \\in A \\mid x \\in B) =  $ 0.3846"
      ],
      "text/plain": [
       "<IPython.core.display.Latex object>"
      ]
     },
     "metadata": {},
     "output_type": "display_data"
    },
    {
     "data": {
      "text/latex": [
       "$P(x \\in B \\mid x \\in A) =  $ 0.7143"
      ],
      "text/plain": [
       "<IPython.core.display.Latex object>"
      ]
     },
     "metadata": {},
     "output_type": "display_data"
    }
   ],
   "source": [
    "\n",
    "\n",
    "A = set(range(0,13,2))          # Set A\n",
    "B = set(range(3,16))            # Set B\n",
    "\n",
    "AuB = A.union(B)                # Union of Set A & Set B\n",
    "AnB = A.intersection(B)         # Intersection of Set A & Set B\n",
    "\n",
    "P_A_given_B = len(AnB)/len(B)   # Probability that a value is in set A given it is part of Set B\n",
    "P_B_given_A = len(AnB)/len(A)   # Probability that a value is in set B given it is part of Set A\n",
    "\n",
    "## Print Info\n",
    "display(Latex(\"$A =  $ \"+str(A)))\n",
    "display(Latex(\"$B =  $ \"+str(B)))\n",
    "display(Latex(\"\"))\n",
    "display(Latex(\"$A \\cup B =  $ \"+str(AuB)))\n",
    "display(Latex(\"$A \\cap B =  $ \"+str(AnB)))\n",
    "display(Latex(\"\"))\n",
    "display(Latex(\"$P(x \\in A \\mid x \\in B) =  ${0:7.4f}\".format(P_A_given_B)))\n",
    "display(Latex(\"$P(x \\in B \\mid x \\in A) =  ${0:7.4f}\".format(P_B_given_A)))\n",
    "\n"
   ]
  }
 ],
 "metadata": {
  "kernelspec": {
   "display_name": "Python 3",
   "language": "python",
   "name": "python3"
  },
  "language_info": {
   "codemirror_mode": {
    "name": "ipython",
    "version": 3
   },
   "file_extension": ".py",
   "mimetype": "text/x-python",
   "name": "python",
   "nbconvert_exporter": "python",
   "pygments_lexer": "ipython3",
   "version": "3.7.3"
  },
  "pycharm": {
   "stem_cell": {
    "cell_type": "raw",
    "metadata": {
     "collapsed": false
    },
    "source": []
   }
  }
 },
 "nbformat": 4,
 "nbformat_minor": 1
}
