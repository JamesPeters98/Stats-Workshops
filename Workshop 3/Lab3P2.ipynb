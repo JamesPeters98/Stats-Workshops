{
 "cells": [
  {
   "cell_type": "code",
   "execution_count": 3,
   "metadata": {
    "scrolled": true
   },
   "outputs": [
    {
     "name": "stdout",
     "output_type": "stream",
     "text": [
      "\tm_fit\t2.0283\n",
      "\tc_fit\t0.8637\n",
      "reduced chi2\t2.1682\n"
     ]
    },
    {
     "data": {
      "image/png": "[encoded data removed]",
      "text/plain": [
       "<matplotlib.figure.Figure at 0x1bdae9eb080>"
      ]
     },
     "metadata": {},
     "output_type": "display_data"
    }
   ],
   "source": [
    "%matplotlib inline\n",
    "from scipy.stats import norm\n",
    "from scipy.optimize import curve_fit\n",
    "import numpy as np\n",
    "import matplotlib.pyplot as plt\n",
    "#\n",
    "\n",
    "# generate data\n",
    "m=2.0 # true gradient\n",
    "c=1.0 # true intercept\n",
    "n=10 # number of points\n",
    "\n",
    "# define a model for fitting and plotting below\n",
    "def linear_model(x,m,c):\n",
    "    \"\"\"Linear function, 1st arg = array of x, 2nd gradient, 3rd intercept\"\"\"\n",
    "    return m*x + c\n",
    "\n",
    "# make data to fit\n",
    "x = np.linspace(1,10,n) # n points equally spaced from 0 to 10\n",
    "y_true = linear_model(x,m,c) # true y values\n",
    "y_err = np.ones(n)*1.5 # constant errors on each point\n",
    "y = y_true + y_err*norm.rvs(size=n) # add a random error to each point: this is the \"measured\" data\n",
    "\n",
    "m_fit = 0. # first guess of m\n",
    "c_fit = 0. # first guess of c\n",
    "\n",
    "# use curve_fit to fit the data to the function provided\n",
    "# and optmise to the closest set of parameters\n",
    "# input is the function to be fitted, x,y,sigma for data and the first guess values of the parameters\n",
    "# output is: popt = best solution, pcov = covariance matrix\n",
    "popt, pcov = curve_fit(linear_model,x,y,sigma=y_err,p0=[m_fit,c_fit]) \n",
    "(m_fit,c_fit) = popt\n",
    "print(\"\\tm_fit\\t{:6.4f}\".format(m_fit))\n",
    "print(\"\\tc_fit\\t{:6.4f}\".format(c_fit))\n",
    "\n",
    "# cacluate the chi2 = sum ((y_data - y_fit)/y_err)**2\n",
    "chi2 = np.sum( ((y-linear_model(x,m_fit,c_fit))/y_err)**2 )\n",
    "print(\"reduced chi2\\t{:6.4f}\".format(chi2/(n-2)))\n",
    "\n",
    "# plot data and fitted line\n",
    "xplot = np.linspace(1,10,100) # 100 points equally spaced from 0 to 10\n",
    "yplot = linear_model(xplot,m_fit,c_fit)\n",
    "plt.plot(xplot,yplot)\n",
    "plt.errorbar(x,y,y_err,fmt='*')\n",
    "plt.show()"
   ]
  },
  {
   "cell_type": "code",
   "execution_count": null,
   "metadata": {
    "collapsed": true
   },
   "outputs": [],
   "source": []
  }
 ],
 "metadata": {
  "kernelspec": {
   "display_name": "Python 3",
   "language": "python",
   "name": "python3"
  },
  "language_info": {
   "codemirror_mode": {
    "name": "ipython",
    "version": 3
   },
   "file_extension": ".py",
   "mimetype": "text/x-python",
   "name": "python",
   "nbconvert_exporter": "python",
   "pygments_lexer": "ipython3",
   "version": "3.7.0"
  }
 },
 "nbformat": 4,
 "nbformat_minor": 2
}
