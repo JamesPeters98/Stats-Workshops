{
 "cells": [
  {
   "cell_type": "markdown",
   "metadata": {
    "pycharm": {
     "is_executing": false,
     "name": "#%% md\n"
    }
   },
   "source": [
    "# Question 1"
   ]
  },
  {
   "cell_type": "code",
   "execution_count": 76,
   "metadata": {
    "pycharm": {
     "is_executing": false,
     "name": "#%%\n"
    }
   },
   "outputs": [
    {
     "data": {
      "text/plain": "<Figure size 648x504 with 4 Axes>",
      "image/png": "[encoded data removed]"
     },
     "metadata": {
      "needs_background": "light"
     },
     "output_type": "display_data"
    }
   ],
   "source": [
    "%matplotlib inline\n",
    "import numpy as np\n",
    "import numpy as npy\n",
    "from prettytable import PrettyTable\n",
    "from scipy.stats import norm\n",
    "from scipy.optimize import curve_fit\n",
    "import matplotlib.pyplot as plt\n",
    "\n",
    "n = 10000\n",
    "bins = 20\n",
    "\n",
    "def uniform_sum(low,upper,sumAmount,n):\n",
    "    dist = []\n",
    "    for x in range(n):\n",
    "        total = 0\n",
    "        for val in npy.random.uniform(low,upper,sumAmount):\n",
    "            total += val\n",
    "        dist.append(total)\n",
    "    return dist\n",
    "\n",
    "# Figure\n",
    "f = plt.figure(figsize=(9,7)) # make a bigger 12cm x 7cm figure\n",
    "\n",
    "def plot_uniform_sum(graphPos, bins, lowerBound, upperBound, sumAmount):\n",
    "    data = uniform_sum(lowerBound,upperBound,sumAmount,n)\n",
    "    p = plt.subplot(2,2,graphPos)\n",
    "    p.hist(data, edgecolor='black', linewidth=1, density=True, bins=bins)\n",
    "    p.set_title(\"Sum of \"+str(sumAmount)+\" Uniform Distribution from 0 to 1\")\n",
    "    p.set_xlabel('x')\n",
    "    p.set_ylabel(r'$ \\Delta N /  (N_{TOTAL} \\cdot \\Delta x)$')\n",
    "    \n",
    "plot_uniform_sum(1,bins,0,1,1)\n",
    "plot_uniform_sum(2,bins,0,1,2)\n",
    "plot_uniform_sum(3,bins,0,1,3)\n",
    "plot_uniform_sum(4,bins,0,1,12)\n",
    "\n",
    "plt.tight_layout()\n",
    "plt.show()"
   ]
  },
  {
   "cell_type": "code",
   "execution_count": 77,
   "outputs": [
    {
     "name": "stdout",
     "text": [
      "Mean and Standard Deviation for the sum of 1 Uniform Distributions between 0 & 1\n+--------------+------------+--------------------+\n|              |    Mean    | Standard Deviation |\n+--------------+------------+--------------------+\n| Experimental |     0.5026 |         0.2892     |\n| Theoretical  |     0.5000 |         0.2887     |\n+--------------+------------+--------------------+\n\nMean and Standard Deviation for the sum of 2 Uniform Distributions between 0 & 1\n+--------------+------------+--------------------+\n|              |    Mean    | Standard Deviation |\n+--------------+------------+--------------------+\n| Experimental |     0.9979 |         0.4101     |\n| Theoretical  |     1.0000 |         0.4082     |\n+--------------+------------+--------------------+\n\nMean and Standard Deviation for the sum of 3 Uniform Distributions between 0 & 1\n+--------------+------------+--------------------+\n|              |    Mean    | Standard Deviation |\n+--------------+------------+--------------------+\n| Experimental |     1.5017 |         0.4984     |\n| Theoretical  |     1.5000 |         0.5000     |\n+--------------+------------+--------------------+\n\nMean and Standard Deviation for the sum of 12 Uniform Distributions between 0 & 1\n+--------------+------------+--------------------+\n|              |    Mean    | Standard Deviation |\n+--------------+------------+--------------------+\n| Experimental |     5.9968 |         0.9995     |\n| Theoretical  |     6.0000 |         1.0000     |\n+--------------+------------+--------------------+\n\n"
     ],
     "output_type": "stream"
    }
   ],
   "source": [
    "# Returns the mean and standard deviation of a summed uniform distribution.\n",
    "def uniform_sum_meanSD(lowerBound, upperBound, sumAmount):\n",
    "    mean = 0\n",
    "    variance = 0;\n",
    "    for x in range(sumAmount):\n",
    "        mean += (upperBound-lowerBound)/2\n",
    "        variance += ((upperBound-lowerBound)**2)/12\n",
    "    return mean,variance**0.5\n",
    "\n",
    "# Calculates the mean and standard deviation of a dataset.\n",
    "def meanSD(x):\n",
    "    #Calculate Mean of array\n",
    "    mean = sum(x)/len(x)\n",
    "    #Calculate SD of array\n",
    "    sd = 0.\n",
    "    for v in x:\n",
    "        sd += (v-mean)**2   \n",
    "    sd = (sd/len(x))**0.5\n",
    "    return mean, sd\n",
    "\n",
    "# Prints a table for the Experimental and Theoretical Mean and Standard Deviation for Uniform Distribution Sums.\n",
    "def printDistributionValues(lowerBound, upperBound, sumAmount):\n",
    "    \n",
    "    print(\"Mean and Standard Deviation for the sum of {0} Uniform Distributions between {1} & {2}\".format(sumAmount,lowerBound,upperBound))\n",
    "    experimental = meanSD(uniform_sum(lowerBound,upperBound,sumAmount,n))   # Mean and SD for the data set\n",
    "    theoretical  = uniform_sum_meanSD(lowerBound,upperBound,sumAmount)      # Prints Theoretical Mean and SD \n",
    "    \n",
    "    # Prints Table of results\n",
    "    table = PrettyTable(['','Mean','Standard Deviation'])\n",
    "    table.add_row([\"Experimental\",\"{0:10.4f}\".format(experimental[0]),\"{0:10.4f}\".format(experimental[1])])\n",
    "    table.add_row([\"Theoretical\",\"{0:10.4f}\".format(theoretical[0]),\"{0:10.4f}\".format(theoretical[1])])\n",
    "    print(table)\n",
    "    print(\"\")\n",
    "\n",
    "printDistributionValues(0,1,1)\n",
    "printDistributionValues(0,1,2)\n",
    "printDistributionValues(0,1,3)\n",
    "printDistributionValues(0,1,12)"
   ],
   "metadata": {
    "collapsed": false,
    "pycharm": {
     "name": "#%%\n",
     "is_executing": false
    }
   }
  },
  {
   "cell_type": "markdown",
   "source": [
    "These four histograms show the Irwin-Hall distribution. The first is uniform without any summations, the second is triangular with 2 summations and the third and fourth tend towards a gaussian distribution as the summation tends to infinity.\n",
    "\n",
    "The theoretical values are calculated alongside experimental values which are calculated from the produced dataset, and are consistent with each other showing the Central Limit Theorem works for calculatingn the mean and variance."
   ],
   "metadata": {
    "collapsed": false,
    "pycharm": {
     "name": "#%% md\n"
    }
   }
  },
  {
   "cell_type": "markdown",
   "source": [
    "# Question 2\n",
    "\n",
    "## Linear Fit"
   ],
   "metadata": {
    "collapsed": false,
    "pycharm": {
     "name": "#%% md\n"
    }
   }
  },
  {
   "cell_type": "code",
   "execution_count": 78,
   "outputs": [
    {
     "name": "stdout",
     "text": [
      "+-------------+------------+------------+\n|  Parameter  |   Fitted   |    True    |\n+-------------+------------+------------+\n|      m      |     2.1659 |     2.0000 |\n|      c      |     0.2312 |     1.0000 |\n| reduced χ^2 |     0.9202 |     -      |\n+-------------+------------+------------+\n"
     ],
     "output_type": "stream"
    },
    {
     "data": {
      "text/plain": "<Figure size 432x288 with 1 Axes>",
      "image/png": "[encoded data removed]"
     },
     "metadata": {
      "needs_background": "light"
     },
     "output_type": "display_data"
    }
   ],
   "source": [
    "# generate data\n",
    "m=2.0 # true gradient\n",
    "c=1.0 # true intercept\n",
    "n=10 # number of points\n",
    "\n",
    "# define a model for fitting and plotting below\n",
    "def linear_model(x,m,c):\n",
    "    \"\"\"Linear function, 1st arg = array of x, 2nd gradient, 3rd intercept\"\"\"\n",
    "    return m*x + c\n",
    "\n",
    "# make data to fit\n",
    "x = np.linspace(1,10,n) # n points equally spaced from 0 to 10\n",
    "y_true = linear_model(x,m,c) # true y values\n",
    "y_err = np.ones(n)*1.5 # constant errors on each point\n",
    "y = y_true + y_err*norm.rvs(size=n) # add a random error to each point: this is the \"measured\" data\n",
    "\n",
    "m_fit = 0. # first guess of m\n",
    "c_fit = 0. # first guess of c\n",
    "\n",
    "# use curve_fit to fit the data to the function provided\n",
    "# and optmise to the closest set of parameters\n",
    "# input is the function to be fitted, x,y,sigma for data and the first guess values of the parameters\n",
    "# output is: popt = best solution, pcov = covariance matrix\n",
    "popt, pcov = curve_fit(linear_model,x,y,sigma=y_err,p0=[m_fit,c_fit]) \n",
    "(m_fit,c_fit) = popt\n",
    "\n",
    "# cacluate the chi2 = sum ((y_data - y_fit)/y_err)**2\n",
    "chi2 = np.sum( ((y-linear_model(x,m_fit,c_fit))/y_err)**2 )\n",
    "rchi2 = chi2/(n-2)\n",
    "\n",
    "table = PrettyTable(['Parameter','Fitted','True'])\n",
    "table.add_row([\"m\",\"{0:10.4f}\".format(m_fit),\"{0:10.4f}\".format(m)])\n",
    "table.add_row([\"c\",\"{0:10.4f}\".format(c_fit),\"{0:10.4f}\".format(c)])\n",
    "table.add_row([\"reduced \\u03C7^2\",\"{0:10.4f}\".format(rchi2),\"-\"])\n",
    "print(table)\n",
    "\n",
    "# plot data and fitted line\n",
    "xplot = np.linspace(1,10,100) # 100 points equally spaced from 0 to 10\n",
    "yplot = linear_model(xplot,m_fit,c_fit)\n",
    "plt.plot(xplot,yplot)\n",
    "plt.errorbar(x,y,y_err,fmt='*')\n",
    "plt.show()"
   ],
   "metadata": {
    "collapsed": false,
    "pycharm": {
     "name": "#%%\n",
     "is_executing": false
    }
   }
  },
  {
   "cell_type": "markdown",
   "source": [
    "## Quadratic Fit "
   ],
   "metadata": {
    "collapsed": false,
    "pycharm": {
     "name": "#%% md\n",
     "is_executing": false
    }
   }
  },
  {
   "cell_type": "code",
   "execution_count": 79,
   "outputs": [
    {
     "name": "stdout",
     "text": [
      "+-------------+------------+------------+\n|  Parameter  |   Fitted   |    True    |\n+-------------+------------+------------+\n|      a      |     5.0002 |     5.0000 |\n|      b      |     1.9810 |     2.0000 |\n|      c      |    -9.8719 |   -10.0000 |\n| reduced χ^2 |     1.2209 |     -      |\n+-------------+------------+------------+\n"
     ],
     "output_type": "stream"
    },
    {
     "data": {
      "text/plain": "<Figure size 432x288 with 1 Axes>",
      "image/png": "[encoded data removed]"
     },
     "metadata": {
      "needs_background": "light"
     },
     "output_type": "display_data"
    }
   ],
   "source": [
    "# generate data\n",
    "a=5 # x^2 parameter\n",
    "b=2 # x parameter\n",
    "c=-10 # true intercept\n",
    "n=30 # number of points\n",
    "\n",
    "# define a model for fitting and plotting below\n",
    "def quadratic_model(x,a,b,c):\n",
    "    \"\"\"Linear function, 1st arg = array of x, 2nd gradient, 3rd intercept\"\"\"\n",
    "    return a*x**2+b*x+c\n",
    "\n",
    "# make data to fit\n",
    "x = np.linspace(-10,10,n) # n points equally spaced from 0 to 10\n",
    "y_true = quadratic_model(x,a,b,c) # true y values\n",
    "y_err = np.ones(n)*1.5 # constant errors on each point\n",
    "y = y_true + y_err*norm.rvs(size=n) # add a random error to each point: this is the \"measured\" data\n",
    "\n",
    "a_fit = 0. # first guess of m\n",
    "b_fit = 0. # first guess of m\n",
    "c_fit = 0. # first guess of c\n",
    "\n",
    "# use curve_fit to fit the data to the function provided\n",
    "# and optmise to the closest set of parameters\n",
    "# input is the function to be fitted, x,y,sigma for data and the first guess values of the parameters\n",
    "# output is: popt = best solution, pcov = covariance matrix\n",
    "popt, pcov = curve_fit(quadratic_model,x,y,sigma=y_err,p0=[a_fit,b_fit,c_fit]) \n",
    "(a_fit,b_fit,c_fit) = popt\n",
    "\n",
    "# cacluate the chi2 = sum ((y_data - y_fit)/y_err)**2\n",
    "chi2 = np.sum( ((y-quadratic_model(x,a_fit,b_fit,c_fit))/y_err)**2 )\n",
    "rchi2 = chi2/(n-2)\n",
    "\n",
    "table = PrettyTable(['Parameter','Fitted','True'])\n",
    "table.add_row([\"a\",\"{0:10.4f}\".format(a_fit),\"{0:10.4f}\".format(a)])\n",
    "table.add_row([\"b\",\"{0:10.4f}\".format(b_fit),\"{0:10.4f}\".format(b)])\n",
    "table.add_row([\"c\",\"{0:10.4f}\".format(c_fit),\"{0:10.4f}\".format(c)])\n",
    "table.add_row([\"reduced \\u03C7^2\",\"{0:10.4f}\".format(rchi2),\"-\"])\n",
    "print(table)\n",
    "\n",
    "# plot data and fitted line\n",
    "xplot = np.linspace(-10,10,100) # 100 points equally spaced from 0 to 10\n",
    "yplot = quadratic_model(xplot,a_fit,b_fit,c_fit)\n",
    "plt.plot(xplot,yplot)\n",
    "plt.errorbar(x,y,y_err,fmt='*')\n",
    "plt.show()"
   ],
   "metadata": {
    "collapsed": false,
    "pycharm": {
     "name": "#%%\n",
     "is_executing": false
    }
   }
  }
 ],
 "metadata": {
  "kernelspec": {
   "display_name": "Python 3",
   "language": "python",
   "name": "python3"
  },
  "language_info": {
   "codemirror_mode": {
    "name": "ipython",
    "version": 3
   },
   "file_extension": ".py",
   "mimetype": "text/x-python",
   "name": "python",
   "nbconvert_exporter": "python",
   "pygments_lexer": "ipython3",
   "version": "3.7.3"
  },
  "pycharm": {
   "stem_cell": {
    "cell_type": "raw",
    "source": [],
    "metadata": {
     "collapsed": false
    }
   }
  }
 },
 "nbformat": 4,
 "nbformat_minor": 1
}