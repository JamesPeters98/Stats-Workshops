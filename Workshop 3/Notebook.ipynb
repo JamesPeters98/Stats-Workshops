{
 "cells": [
  {
   "cell_type": "markdown",
   "metadata": {
    "pycharm": {
     "is_executing": false,
     "name": "#%% md\n"
    }
   },
   "source": [
    "# Question 1"
   ]
  },
  {
   "cell_type": "code",
   "execution_count": 1,
   "metadata": {
    "pycharm": {
     "is_executing": false,
     "name": "#%%\n"
    }
   },
   "outputs": [
    {
     "data": {
      "text/plain": "<Figure size 648x504 with 4 Axes>",
      "image/png": "[encoded data removed]"
     },
     "metadata": {
      "needs_background": "light"
     },
     "output_type": "display_data"
    }
   ],
   "source": [
    "%matplotlib inline\n",
    "import numpy as npy\n",
    "import matplotlib.pyplot as plt\n",
    "from prettytable import PrettyTable\n",
    "\n",
    "n = 10000\n",
    "bins = 20\n",
    "\n",
    "def uniform_sum(low,upper,sumAmount,n):\n",
    "    dist = []\n",
    "    for x in range(n):\n",
    "        total = 0\n",
    "        for val in npy.random.uniform(low,upper,sumAmount):\n",
    "            total += val\n",
    "        dist.append(total)\n",
    "    return dist\n",
    "\n",
    "# Figure\n",
    "f = plt.figure(figsize=(9,7)) # make a bigger 12cm x 7cm figure\n",
    "\n",
    "def plot_uniform_sum(graphPos, bins, lowerBound, upperBound, sumAmount):\n",
    "    data = uniform_sum(lowerBound,upperBound,sumAmount,n)\n",
    "    p = plt.subplot(2,2,graphPos)\n",
    "    p.hist(data, edgecolor='black', linewidth=1, density=True, bins=bins)\n",
    "    p.set_title(\"Sum of \"+str(sumAmount)+\" Uniform Distribution from 0 to 1\")\n",
    "    p.set_xlabel('x')\n",
    "    p.set_ylabel(r'$ \\Delta N /  (N_{TOTAL} \\cdot \\Delta x)$')\n",
    "    \n",
    "plot_uniform_sum(1,bins,0,1,1)\n",
    "plot_uniform_sum(2,bins,0,1,2)\n",
    "plot_uniform_sum(3,bins,0,1,3)\n",
    "plot_uniform_sum(4,bins,0,1,120)\n",
    "\n",
    "plt.tight_layout()\n",
    "plt.show()"
   ]
  },
  {
   "cell_type": "code",
   "execution_count": 2,
   "outputs": [
    {
     "name": "stdout",
     "text": [
      "Mean and Standard Deviation for the sum of 1 Uniform Distributions between 0 & 1\n+--------------+------------+--------------------+\n|              |    Mean    | Standard Deviation |\n+--------------+------------+--------------------+\n| Experimental |     0.4986 |         0.2890     |\n| Theoretical  |     0.5000 |         0.2887     |\n+--------------+------------+--------------------+\n\nMean and Standard Deviation for the sum of 2 Uniform Distributions between 0 & 1\n+--------------+------------+--------------------+\n|              |    Mean    | Standard Deviation |\n+--------------+------------+--------------------+\n| Experimental |     1.0000 |         0.4075     |\n| Theoretical  |     1.0000 |         0.4082     |\n+--------------+------------+--------------------+\n\nMean and Standard Deviation for the sum of 3 Uniform Distributions between 0 & 1\n+--------------+------------+--------------------+\n|              |    Mean    | Standard Deviation |\n+--------------+------------+--------------------+\n| Experimental |     1.4980 |         0.4981     |\n| Theoretical  |     1.5000 |         0.5000     |\n+--------------+------------+--------------------+\n\nMean and Standard Deviation for the sum of 12 Uniform Distributions between 0 & 1\n",
      "+--------------+------------+--------------------+\n|              |    Mean    | Standard Deviation |\n+--------------+------------+--------------------+\n| Experimental |     5.9964 |         1.0114     |\n| Theoretical  |     6.0000 |         1.0000     |\n+--------------+------------+--------------------+\n\n"
     ],
     "output_type": "stream"
    }
   ],
   "source": [
    "# Returns the mean and standard deviation of a summed uniform distribution.\n",
    "def uniform_sum_meanSD(lowerBound, upperBound, sumAmount):\n",
    "    mean = 0\n",
    "    variance = 0;\n",
    "    for x in range(sumAmount):\n",
    "        mean += (upperBound-lowerBound)/2\n",
    "        variance += ((upperBound-lowerBound)**2)/12\n",
    "    return mean,variance**0.5\n",
    "\n",
    "# Calculates the mean and standard deviation of a dataset.\n",
    "def meanSD(x):\n",
    "    #Calculate Mean of array\n",
    "    mean = sum(x)/len(x)\n",
    "    #Calculate SD of array\n",
    "    sd = 0.\n",
    "    for v in x:\n",
    "        sd += (v-mean)**2   \n",
    "    sd = (sd/len(x))**0.5\n",
    "    return mean, sd\n",
    "\n",
    "# Prints a table for the Experimental and Theoretical Mean and Standard Deviation for Uniform Distribution Sums.\n",
    "def printDistributionValues(lowerBound, upperBound, sumAmount):\n",
    "    \n",
    "    print(\"Mean and Standard Deviation for the sum of {0} Uniform Distributions between {1} & {2}\".format(sumAmount,lowerBound,upperBound))\n",
    "    experimental = meanSD(uniform_sum(lowerBound,upperBound,sumAmount,n))   # Mean and SD for the data set\n",
    "    theoretical  = uniform_sum_meanSD(lowerBound,upperBound,sumAmount)      # Prints Theoretical Mean and SD \n",
    "    \n",
    "    # Prints Table of results\n",
    "    table = PrettyTable(['','Mean','Standard Deviation'])\n",
    "    table.add_row([\"Experimental\",\"{0:10.4f}\".format(experimental[0]),\"{0:10.4f}\".format(experimental[1])])\n",
    "    table.add_row([\"Theoretical\",\"{0:10.4f}\".format(theoretical[0]),\"{0:10.4f}\".format(theoretical[1])])\n",
    "    print(table)\n",
    "    print(\"\")\n",
    "\n",
    "printDistributionValues(0,1,1)\n",
    "printDistributionValues(0,1,2)\n",
    "printDistributionValues(0,1,3)\n",
    "printDistributionValues(0,1,12)"
   ],
   "metadata": {
    "collapsed": false,
    "pycharm": {
     "name": "#%%\n",
     "is_executing": false
    }
   }
  },
  {
   "cell_type": "markdown",
   "source": [
    "These four histograms show the Irwin–Hall distribution. The first is uniform, the second triangular and then \n",
    " "
   ],
   "metadata": {
    "collapsed": false,
    "pycharm": {
     "name": "#%% md\n"
    }
   }
  }
 ],
 "metadata": {
  "kernelspec": {
   "display_name": "Python 3",
   "language": "python",
   "name": "python3"
  },
  "language_info": {
   "codemirror_mode": {
    "name": "ipython",
    "version": 3
   },
   "file_extension": ".py",
   "mimetype": "text/x-python",
   "name": "python",
   "nbconvert_exporter": "python",
   "pygments_lexer": "ipython3",
   "version": "3.7.3"
  },
  "pycharm": {
   "stem_cell": {
    "cell_type": "raw",
    "source": [],
    "metadata": {
     "collapsed": false
    }
   }
  }
 },
 "nbformat": 4,
 "nbformat_minor": 1
}