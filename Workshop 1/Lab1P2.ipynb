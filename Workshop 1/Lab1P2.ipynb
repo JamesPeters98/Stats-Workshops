{
 "cells": [
  {
   "cell_type": "code",
   "execution_count": 59,
   "metadata": {
    "pycharm": {
     "is_executing": false
    }
   },
   "outputs": [
    {
     "name": "stdout",
     "text": [
      "x1 mean     9.0 stdev   3.162\nx2 mean     9.0 stdev   3.162\nx3 mean     9.0 stdev   3.162\nx4 mean     9.0 stdev   3.162\ny1 mean   7.501 stdev   1.937\ny2 mean   7.501 stdev   1.937\ny3 mean     7.5 stdev   1.936\ny4 mean   7.501 stdev   1.936\n\n",
      "Uniform mean =  0.4955 stdev =  0.2967\n"
     ],
     "output_type": "stream"
    },
    {
     "data": {
      "text/plain": "<Figure size 432x288 with 4 Axes>",
      "image/png": "[encoded data removed]"
     },
     "metadata": {
      "needs_background": "light"
     },
     "output_type": "display_data"
    },
    {
     "data": {
      "text/plain": "<Figure size 648x504 with 1 Axes>",
      "image/png": "[encoded data removed]"
     },
     "metadata": {
      "needs_background": "light"
     },
     "output_type": "display_data"
    }
   ],
   "source": [
    "%matplotlib inline\n",
    "import numpy as npy\n",
    "import matplotlib.pyplot as plt\n",
    "import scipy.io as sio\n",
    "\n",
    "AQ = sio.loadmat('AQ.mat')\n",
    "\n",
    "fig, ax = plt.subplots(2,2)\n",
    "fig.suptitle('Data sets for x & y {1,2,3,4}')\n",
    "\n",
    "def meanSD(x):\n",
    "    \n",
    "    #Calculate Mean of array\n",
    "    mean = sum(x)/len(x)\n",
    "    \n",
    "    #Calculate SD of array\n",
    "    sd = 0.\n",
    "    for v in x:\n",
    "        sd += (v-mean)**2   \n",
    "    sd = (sd/len(x))**0.5\n",
    "    \n",
    "    return mean, sd\n",
    "\n",
    "for v in ['x1','x2','x3','x4','y1','y2','y3','y4']:\n",
    "    m,s = meanSD(AQ[v][0])\n",
    "    print(\"{} mean {:7.4} stdev {:7.4}\".format(v,m,s))\n",
    "    \n",
    "print(\"\")\n",
    "\n",
    "i=1\n",
    "for ax in fig.get_axes():\n",
    "    x = AQ['x'+str(i)]\n",
    "    y = AQ['y'+str(i)]\n",
    "    ax.plot(x[0],y[0], marker='o', linestyle='none')\n",
    "    ax.set_xlabel('x')\n",
    "    ax.set_ylabel('y')\n",
    "    i += 1\n",
    "    \n",
    "plt.show()\n",
    "\n",
    "#uniform distribution from 0->1\n",
    "a=0 # a and b are the parameters for unifrand\n",
    "b=1.0 # use help(npy.random.uniform) for details of the function\n",
    "ndata=1000\n",
    "\n",
    "from scipy.stats import uniform\n",
    "\n",
    "u_data = uniform.rvs(a,b,size=ndata)\n",
    "m,s = meanSD(u_data)\n",
    "print(\"Uniform mean = {:7.4} stdev = {:7.4}\".format(m,s))\n",
    "\n",
    "f = plt.figure(figsize=(9,7)) # make a bigger 9cm x 7cm figure\n",
    "p = plt.subplot(2,2,1) # split into 2,2 plots (1st and 2nd digit) and return 1st (3rd digit)\n",
    "u_hist = p.hist(u_data)\n",
    "p.set_title(\"Uniform distrubution from 0 to 1\")\n",
    "p.set_xlabel('x')\n",
    "p.set_ylabel('N(x)')\n",
    "plt.tight_layout()\n",
    "plt.show()"
   ]
  },
  {
   "cell_type": "code",
   "execution_count": 59,
   "metadata": {
    "collapsed": true,
    "pycharm": {
     "is_executing": false
    }
   },
   "outputs": [],
   "source": []
  }
 ],
 "metadata": {
  "kernelspec": {
   "display_name": "Python 3",
   "language": "python",
   "name": "python3"
  },
  "language_info": {
   "codemirror_mode": {
    "name": "ipython",
    "version": 3
   },
   "file_extension": ".py",
   "mimetype": "text/x-python",
   "name": "python",
   "nbconvert_exporter": "python",
   "pygments_lexer": "ipython3",
   "version": "3.7.0"
  },
  "pycharm": {
   "stem_cell": {
    "cell_type": "raw",
    "source": [],
    "metadata": {
     "collapsed": false
    }
   }
  }
 },
 "nbformat": 4,
 "nbformat_minor": 1
}