{
 "cells": [
  {
   "cell_type": "code",
   "execution_count": 1,
   "metadata": {
    "pycharm": {
     "is_executing": false
    }
   },
   "outputs": [
    {
     "name": "stdout",
     "output_type": "stream",
     "text": [
      "Means & Standard Deviations of each set\n",
      "x1 mean     9.0 stdev   3.162\n",
      "x2 mean     9.0 stdev   3.162\n",
      "x3 mean     9.0 stdev   3.162\n",
      "x4 mean     9.0 stdev   3.162\n",
      "y1 mean   7.501 stdev   1.937\n",
      "y2 mean   7.501 stdev   1.937\n",
      "y3 mean     7.5 stdev   1.936\n",
      "y4 mean   7.501 stdev   1.936\n",
      "\n",
      "[[10  8 13  9 11 14  6  4 12  7  5]]\n",
      "[[ 8.04  6.95  7.58  8.81  8.33  9.96  7.24  4.26 10.84  4.82  5.68]]\n",
      "[[10  8 13  9 11 14  6  4 12  7  5]]\n",
      "[[9.14 8.14 8.74 8.77 9.26 8.1  6.13 3.1  9.13 7.26 4.74]]\n",
      "[[10  8 13  9 11 14  6  4 12  7  5]]\n",
      "[[ 7.46  6.77 12.74  7.11  7.81  8.84  6.08  5.39  8.15  6.42  5.73]]\n",
      "[[ 8  8  8  8  8  8  8 19  8  8  8]]\n",
      "[[ 6.58  5.76  7.71  8.84  8.47  7.04  5.25 12.5   5.56  7.91  6.89]]\n"
     ]
    },
    {
     "data": {
      "image/png": "[encoded data removed]",
      "text/plain": [
       "<Figure size 432x288 with 4 Axes>"
      ]
     },
     "metadata": {
      "needs_background": "light"
     },
     "output_type": "display_data"
    },
    {
     "name": "stdout",
     "output_type": "stream",
     "text": [
      "Uniform mean =  0.4916 stdev =  0.2943\n"
     ]
    },
    {
     "data": {
      "image/png": "[encoded data removed]",
      "text/plain": [
       "<Figure size 648x504 with 1 Axes>"
      ]
     },
     "metadata": {
      "needs_background": "light"
     },
     "output_type": "display_data"
    }
   ],
   "source": [
    "%matplotlib inline\n",
    "import numpy as npy\n",
    "import matplotlib.pyplot as plt\n",
    "import scipy.io as sio\n",
    "\n",
    "AQ = sio.loadmat('AQ.mat')\n",
    "\n",
    "fig, axs = plt.subplots(4)\n",
    "fig.suptitle('Data sets for x & y {1,2,3,4}')\n",
    "\n",
    "# copy your meanSD() function here...\n",
    "def meanSD(x):\n",
    "    return npy.mean(x), npy.std(x) # \n",
    "\n",
    "print(\"Means & Standard Deviations of each set\")\n",
    "for v in ['x1','x2','x3','x4','y1','y2','y3','y4']:\n",
    "    m,s = meanSD(AQ[v])\n",
    "    print(\"{} mean {:7.4} stdev {:7.4}\".format(v,m,s))\n",
    "    \n",
    "print(\"\")\n",
    "\n",
    "for i in range(1,5):\n",
    "    x = AQ['x'+str(i)]\n",
    "    y = AQ['y'+str(i)]\n",
    "    axs[i-1].plot(x[0],y[0], marker='o', linestyle='none')\n",
    "    \n",
    "plt.show()\n",
    "\n",
    "#uniform distribution from 0->1\n",
    "a=0 # a and b are the parameters for unifrand\n",
    "b=1.0 # use help(npy.random.uniform) for details of the function\n",
    "ndata=1000\n",
    "from scipy.stats import uniform\n",
    "u_data = uniform.rvs(a,b,size=ndata)\n",
    "m,s = meanSD(u_data)\n",
    "print(\"Uniform mean = {:7.4} stdev = {:7.4}\".format(m,s))\n",
    "\n",
    "f = plt.figure(figsize=(9,7)) # make a bigger 9cm x 7cm figure\n",
    "p = plt.subplot(2,2,1) # split into 2,2 plots (1st and 2nd digit) and return 1st (3rd digit)\n",
    "u_hist = p.hist(u_data)\n",
    "p.set_title(\"Uniform distrubution from 0 to 1\")\n",
    "p.set_xlabel('x')\n",
    "p.set_ylabel('N(x)')\n",
    "plt.tight_layout()\n",
    "plt.show()"
   ]
  },
  {
   "cell_type": "code",
   "execution_count": 33,
   "metadata": {
    "collapsed": true,
    "jupyter": {
     "outputs_hidden": true
    },
    "pycharm": {
     "is_executing": false
    }
   },
   "outputs": [],
   "source": []
  }
 ],
 "metadata": {
  "kernelspec": {
   "display_name": "Python 3",
   "language": "python",
   "name": "python3"
  },
  "language_info": {
   "codemirror_mode": {
    "name": "ipython",
    "version": 3
   },
   "file_extension": ".py",
   "mimetype": "text/x-python",
   "name": "python",
   "nbconvert_exporter": "python",
   "pygments_lexer": "ipython3",
   "version": "3.7.3"
  },
  "pycharm": {
   "stem_cell": {
    "cell_type": "raw",
    "metadata": {
     "collapsed": false
    },
    "source": []
   }
  }
 },
 "nbformat": 4,
 "nbformat_minor": 4
}
